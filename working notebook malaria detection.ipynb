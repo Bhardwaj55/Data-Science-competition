{
 "cells": [
  {
   "cell_type": "markdown",
   "id": "1d912db7",
   "metadata": {},
   "source": [
    "Malaria is one of the deadliest diseases. It is a life-threatening disease caused by parasites that are transmitted to people through the bites of infected female Anopheles mosquitoes. It is preventable and curable.\n",
    "\n",
    "However, Malaria diagnosis involves close examination of the blood smear at 100x magnification. This is followed by a manual counting process wherein experts count the number of Red blood cells impacted by parasites. Automatic detection of Malaria from blood smear image is a scalable solution and can save a lot of hours for healthcare industry going a long way in our battle against this deadly disease. In this project, we try to identify from blood smears to predict whether the sample is taken from an infected person."
   ]
  },
  {
   "cell_type": "code",
   "execution_count": 1,
   "id": "5bcfe861",
   "metadata": {},
   "outputs": [
    {
     "name": "stderr",
     "output_type": "stream",
     "text": [
      "'ls' is not recognized as an internal or external command,\n",
      "operable program or batch file.\n"
     ]
    }
   ],
   "source": [
    "!ls"
   ]
  },
  {
   "cell_type": "code",
   "execution_count": 2,
   "id": "87591a73",
   "metadata": {},
   "outputs": [
    {
     "name": "stderr",
     "output_type": "stream",
     "text": [
      "'ls' is not recognized as an internal or external command,\n",
      "operable program or batch file.\n"
     ]
    }
   ],
   "source": [
    "!ls cell_images/"
   ]
  },
  {
   "cell_type": "code",
   "execution_count": 4,
   "id": "53f8bc8b",
   "metadata": {},
   "outputs": [],
   "source": [
    "#Storing the base directory\n",
    "import os\n",
    "\n",
    "base_dir = os.path.join('./cell_images')"
   ]
  },
  {
   "cell_type": "code",
   "execution_count": 5,
   "id": "420f6123",
   "metadata": {},
   "outputs": [],
   "source": [
    "import numpy as np\n",
    "import pandas as pd"
   ]
  },
  {
   "cell_type": "code",
   "execution_count": 6,
   "id": "e389974b",
   "metadata": {},
   "outputs": [
    {
     "data": {
      "text/plain": [
       "(19290, 2)"
      ]
     },
     "execution_count": 6,
     "metadata": {},
     "output_type": "execute_result"
    }
   ],
   "source": [
    "train_df = pd.read_csv('train.csv')\n",
    "train_df.shape"
   ]
  },
  {
   "cell_type": "code",
   "execution_count": 7,
   "id": "d4a7392a",
   "metadata": {},
   "outputs": [
    {
     "data": {
      "text/html": [
       "<div>\n",
       "<style scoped>\n",
       "    .dataframe tbody tr th:only-of-type {\n",
       "        vertical-align: middle;\n",
       "    }\n",
       "\n",
       "    .dataframe tbody tr th {\n",
       "        vertical-align: top;\n",
       "    }\n",
       "\n",
       "    .dataframe thead th {\n",
       "        text-align: right;\n",
       "    }\n",
       "</style>\n",
       "<table border=\"1\" class=\"dataframe\">\n",
       "  <thead>\n",
       "    <tr style=\"text-align: right;\">\n",
       "      <th></th>\n",
       "      <th>filename</th>\n",
       "      <th>label</th>\n",
       "    </tr>\n",
       "  </thead>\n",
       "  <tbody>\n",
       "    <tr>\n",
       "      <th>0</th>\n",
       "      <td>C50P11thinF_IMG_20150724_114951_cell_148.png</td>\n",
       "      <td>malaria</td>\n",
       "    </tr>\n",
       "    <tr>\n",
       "      <th>1</th>\n",
       "      <td>C112P73ThinF_IMG_20150930_131659_cell_94.png</td>\n",
       "      <td>healthy</td>\n",
       "    </tr>\n",
       "    <tr>\n",
       "      <th>2</th>\n",
       "      <td>C59P20thinF_IMG_20150803_111333_cell_144.png</td>\n",
       "      <td>malaria</td>\n",
       "    </tr>\n",
       "    <tr>\n",
       "      <th>3</th>\n",
       "      <td>C158P119ThinF_IMG_20151115_181136_cell_202.png</td>\n",
       "      <td>malaria</td>\n",
       "    </tr>\n",
       "    <tr>\n",
       "      <th>4</th>\n",
       "      <td>C81P42ThinF_IMG_20150817_120524_cell_190.png</td>\n",
       "      <td>malaria</td>\n",
       "    </tr>\n",
       "  </tbody>\n",
       "</table>\n",
       "</div>"
      ],
      "text/plain": [
       "                                         filename    label\n",
       "0    C50P11thinF_IMG_20150724_114951_cell_148.png  malaria\n",
       "1    C112P73ThinF_IMG_20150930_131659_cell_94.png  healthy\n",
       "2    C59P20thinF_IMG_20150803_111333_cell_144.png  malaria\n",
       "3  C158P119ThinF_IMG_20151115_181136_cell_202.png  malaria\n",
       "4    C81P42ThinF_IMG_20150817_120524_cell_190.png  malaria"
      ]
     },
     "execution_count": 7,
     "metadata": {},
     "output_type": "execute_result"
    }
   ],
   "source": [
    "train_df.head()"
   ]
  },
  {
   "cell_type": "code",
   "execution_count": 8,
   "id": "ef126daf",
   "metadata": {},
   "outputs": [
    {
     "data": {
      "text/plain": [
       "label\n",
       "malaria    9645\n",
       "healthy    9645\n",
       "Name: count, dtype: int64"
      ]
     },
     "execution_count": 8,
     "metadata": {},
     "output_type": "execute_result"
    }
   ],
   "source": [
    "#understand the distribution of both classes in the training data set\n",
    "train_df['label'].value_counts()"
   ]
  },
  {
   "cell_type": "markdown",
   "id": "3013848b",
   "metadata": {},
   "source": [
    "From the above cell we can observe that our train set consists of equal samples of both the classes thus we will not face any problem due to class imbalance in the dataset."
   ]
  },
  {
   "cell_type": "code",
   "execution_count": 9,
   "id": "8cd0e58e",
   "metadata": {},
   "outputs": [
    {
     "data": {
      "text/plain": [
       "<Figure size 1500x1500 with 0 Axes>"
      ]
     },
     "metadata": {},
     "output_type": "display_data"
    },
    {
     "data": {
      "image/png": "[encoded data removed]",
      "text/plain": [
       "<Figure size 640x480 with 4 Axes>"
      ]
     },
     "metadata": {},
     "output_type": "display_data"
    }
   ],
   "source": [
    "import matplotlib.pyplot as plt\n",
    "from skimage.io import imread, imshow\n",
    "\n",
    "plt.figure(figsize=(15,15))\n",
    "fig, ax = plt.subplots(nrows=2, ncols=2)\n",
    "\n",
    "for i in range(2):\n",
    "    for j in range(2):\n",
    "        #Reading files after concatenating file name with folder path\n",
    "        image = imread(os.path.join(base_dir,train_df[\"filename\"][i+2*j]))\n",
    "        #showing some images of the dataset\n",
    "        ax[i,j].imshow(image)\n",
    "        ax[i,j].set_ylabel(train_df[\"label\"][i+2*j])"
   ]
  },
  {
   "cell_type": "markdown",
   "id": "dd3cb6af",
   "metadata": {},
   "source": [
    "Data Preparation"
   ]
  },
  {
   "cell_type": "markdown",
   "id": "90b1d068",
   "metadata": {},
   "source": [
    "since we have textual labels for our images i.e. Parasitized/Uninfected so we will convert them to numerical labels i.e. 0/1"
   ]
  },
  {
   "cell_type": "code",
   "execution_count": 12,
   "id": "d70cd005",
   "metadata": {},
   "outputs": [
    {
     "name": "stdout",
     "output_type": "stream",
     "text": [
      "0 -  healthy\n",
      "1 -  malaria\n"
     ]
    }
   ],
   "source": [
    "from sklearn import preprocessing\n",
    "\n",
    "# Create the LabelEncoder object\n",
    "le = preprocessing.LabelEncoder()\n",
    "\n",
    "# Fit label Encoder\n",
    "le.fit(train_df['label'])\n",
    "\n",
    "# Transform textual labels\n",
    "labels = le.transform(train_df['label'])\n",
    "\n",
    "print('0 - ', le.inverse_transform([0])[0])\n",
    "print('1 - ', le.inverse_transform([1])[0])\n"
   ]
  },
  {
   "cell_type": "markdown",
   "id": "0436501e",
   "metadata": {},
   "source": [
    "Here we split the dataset into training and validation sets. Training set is the subset of the dataset that is used for training and validation set is used to evaluate the performance of the model after every epoch."
   ]
  },
  {
   "cell_type": "code",
   "execution_count": 13,
   "id": "18bb5999",
   "metadata": {},
   "outputs": [
    {
     "name": "stdout",
     "output_type": "stream",
     "text": [
      "(15432,) (3858,)\n",
      "(15432,) (3858,)\n"
     ]
    }
   ],
   "source": [
    "#import required functions\n",
    "from sklearn.model_selection import train_test_split\n",
    "\n",
    "#divide the dataset into training and validation sets\n",
    "train_files, val_files, train_labels, val_labels = train_test_split(train_df['filename'],\n",
    "                                                                    labels, \n",
    "                                                                    test_size=0.2, random_state=42,shuffle=True)\n",
    "#check the shapes of training and validation sets\n",
    "print(train_files.shape, val_files.shape)\n",
    "print(train_labels.shape,val_labels.shape)"
   ]
  },
  {
   "cell_type": "code",
   "execution_count": 14,
   "id": "d3a67d9b",
   "metadata": {},
   "outputs": [],
   "source": [
    "from skimage.io import imread, imshow\n",
    "from skimage.transform import resize"
   ]
  },
  {
   "cell_type": "code",
   "execution_count": 15,
   "id": "5eac6ef4",
   "metadata": {},
   "outputs": [
    {
     "name": "stdout",
     "output_type": "stream",
     "text": [
      "Minimum Dimensions -  [40 49  3]\n",
      "Maximum Dimensions -  [385 364   3]\n",
      "Average Dimensions -  [132.9600311  132.58335925   3.        ]\n"
     ]
    }
   ],
   "source": [
    "shapes = []\n",
    "for i in train_df['filename']:\n",
    "    image = imread(os.path.join(base_dir,i))\n",
    "    shapes.append(image.shape)\n",
    "\n",
    "print('Minimum Dimensions - ',np.min(shapes,axis=0))\n",
    "print('Maximum Dimensions - ',np.max(shapes,axis=0))\n",
    "print('Average Dimensions - ',np.mean(shapes,axis=0))"
   ]
  },
  {
   "cell_type": "markdown",
   "id": "0a1533d4",
   "metadata": {},
   "source": [
    "We can see that there are images of different shapes. It is recommended to have images in shape size before going ahead with modeling process and it is also dependent on which feature extractor tool, you are using"
   ]
  },
  {
   "cell_type": "markdown",
   "id": "56f7743e",
   "metadata": {},
   "source": [
    "Here, we will use pixel value as a feature to classify images in Parasitized/Uninfected images. Although, we have looked at that these images are of different shapes so we will bring all the images in same shape by resizing to 40X40. And, after that convert two dimensional matrix to one dimensional vector. So, for each images, we will have 1600 (40X40) features."
   ]
  },
  {
   "cell_type": "code",
   "execution_count": 17,
   "id": "ae467594",
   "metadata": {},
   "outputs": [],
   "source": [
    "IMG_DIMS=(40,40)\n",
    "train_features_pixel=[]\n",
    "\n",
    "for i in train_files:\n",
    "    image = imread(os.path.join(base_dir,i))\n",
    "    image = resize(image,IMG_DIMS)\n",
    "    features = np.reshape(image,(IMG_DIMS[0]*IMG_DIMS[1]*3))\n",
    "    train_features_pixel.append(features)\n",
    "\n",
    "train_features_pixel = np.array(train_features_pixel)"
   ]
  },
  {
   "cell_type": "code",
   "execution_count": 19,
   "id": "23bcf9e5",
   "metadata": {},
   "outputs": [
    {
     "data": {
      "text/plain": [
       "(15432, 4800)"
      ]
     },
     "execution_count": 19,
     "metadata": {},
     "output_type": "execute_result"
    }
   ],
   "source": [
    "train_features_pixel.shape"
   ]
  },
  {
   "cell_type": "code",
   "execution_count": 20,
   "id": "3caf8ae2",
   "metadata": {},
   "outputs": [],
   "source": [
    "IMG_DIMS=(40,40)\n",
    "val_features_pixel=[]\n",
    "\n",
    "for i in val_files:\n",
    "    image = imread(os.path.join(base_dir,i))\n",
    "    image = resize(image,IMG_DIMS)\n",
    "    features = np.reshape(image,(IMG_DIMS[0]*IMG_DIMS[1]*3))\n",
    "    val_features_pixel.append(features)\n",
    "\n",
    "val_features_pixel = np.array(val_features_pixel)"
   ]
  },
  {
   "cell_type": "code",
   "execution_count": 21,
   "id": "cadea427",
   "metadata": {},
   "outputs": [
    {
     "data": {
      "text/plain": [
       "(3858, 4800)"
      ]
     },
     "execution_count": 21,
     "metadata": {},
     "output_type": "execute_result"
    }
   ],
   "source": [
    "val_features_pixel.shape"
   ]
  },
  {
   "cell_type": "markdown",
   "id": "465535f1",
   "metadata": {},
   "source": [
    "6. Model1: Model building using Pixel Features"
   ]
  },
  {
   "cell_type": "markdown",
   "id": "22a49195",
   "metadata": {},
   "source": [
    "Logistic Regression"
   ]
  },
  {
   "cell_type": "code",
   "execution_count": 22,
   "id": "736bf00f",
   "metadata": {},
   "outputs": [
    {
     "name": "stderr",
     "output_type": "stream",
     "text": [
      "C:\\Anaconda123\\Lib\\site-packages\\sklearn\\linear_model\\_logistic.py:460: ConvergenceWarning: lbfgs failed to converge (status=1):\n",
      "STOP: TOTAL NO. of ITERATIONS REACHED LIMIT.\n",
      "\n",
      "Increase the number of iterations (max_iter) or scale the data as shown in:\n",
      "    https://scikit-learn.org/stable/modules/preprocessing.html\n",
      "Please also refer to the documentation for alternative solver options:\n",
      "    https://scikit-learn.org/stable/modules/linear_model.html#logistic-regression\n",
      "  n_iter_i = _check_optimize_result(\n"
     ]
    },
    {
     "data": {
      "text/html": [
       "<style>#sk-container-id-1 {color: black;}#sk-container-id-1 pre{padding: 0;}#sk-container-id-1 div.sk-toggleable {background-color: white;}#sk-container-id-1 label.sk-toggleable__label {cursor: pointer;display: block;width: 100%;margin-bottom: 0;padding: 0.3em;box-sizing: border-box;text-align: center;}#sk-container-id-1 label.sk-toggleable__label-arrow:before {content: \"▸\";float: left;margin-right: 0.25em;color: #696969;}#sk-container-id-1 label.sk-toggleable__label-arrow:hover:before {color: black;}#sk-container-id-1 div.sk-estimator:hover label.sk-toggleable__label-arrow:before {color: black;}#sk-container-id-1 div.sk-toggleable__content {max-height: 0;max-width: 0;overflow: hidden;text-align: left;background-color: #f0f8ff;}#sk-container-id-1 div.sk-toggleable__content pre {margin: 0.2em;color: black;border-radius: 0.25em;background-color: #f0f8ff;}#sk-container-id-1 input.sk-toggleable__control:checked~div.sk-toggleable__content {max-height: 200px;max-width: 100%;overflow: auto;}#sk-container-id-1 input.sk-toggleable__control:checked~label.sk-toggleable__label-arrow:before {content: \"▾\";}#sk-container-id-1 div.sk-estimator input.sk-toggleable__control:checked~label.sk-toggleable__label {background-color: #d4ebff;}#sk-container-id-1 div.sk-label input.sk-toggleable__control:checked~label.sk-toggleable__label {background-color: #d4ebff;}#sk-container-id-1 input.sk-hidden--visually {border: 0;clip: rect(1px 1px 1px 1px);clip: rect(1px, 1px, 1px, 1px);height: 1px;margin: -1px;overflow: hidden;padding: 0;position: absolute;width: 1px;}#sk-container-id-1 div.sk-estimator {font-family: monospace;background-color: #f0f8ff;border: 1px dotted black;border-radius: 0.25em;box-sizing: border-box;margin-bottom: 0.5em;}#sk-container-id-1 div.sk-estimator:hover {background-color: #d4ebff;}#sk-container-id-1 div.sk-parallel-item::after {content: \"\";width: 100%;border-bottom: 1px solid gray;flex-grow: 1;}#sk-container-id-1 div.sk-label:hover label.sk-toggleable__label {background-color: #d4ebff;}#sk-container-id-1 div.sk-serial::before {content: \"\";position: absolute;border-left: 1px solid gray;box-sizing: border-box;top: 0;bottom: 0;left: 50%;z-index: 0;}#sk-container-id-1 div.sk-serial {display: flex;flex-direction: column;align-items: center;background-color: white;padding-right: 0.2em;padding-left: 0.2em;position: relative;}#sk-container-id-1 div.sk-item {position: relative;z-index: 1;}#sk-container-id-1 div.sk-parallel {display: flex;align-items: stretch;justify-content: center;background-color: white;position: relative;}#sk-container-id-1 div.sk-item::before, #sk-container-id-1 div.sk-parallel-item::before {content: \"\";position: absolute;border-left: 1px solid gray;box-sizing: border-box;top: 0;bottom: 0;left: 50%;z-index: -1;}#sk-container-id-1 div.sk-parallel-item {display: flex;flex-direction: column;z-index: 1;position: relative;background-color: white;}#sk-container-id-1 div.sk-parallel-item:first-child::after {align-self: flex-end;width: 50%;}#sk-container-id-1 div.sk-parallel-item:last-child::after {align-self: flex-start;width: 50%;}#sk-container-id-1 div.sk-parallel-item:only-child::after {width: 0;}#sk-container-id-1 div.sk-dashed-wrapped {border: 1px dashed gray;margin: 0 0.4em 0.5em 0.4em;box-sizing: border-box;padding-bottom: 0.4em;background-color: white;}#sk-container-id-1 div.sk-label label {font-family: monospace;font-weight: bold;display: inline-block;line-height: 1.2em;}#sk-container-id-1 div.sk-label-container {text-align: center;}#sk-container-id-1 div.sk-container {/* jupyter's `normalize.less` sets `[hidden] { display: none; }` but bootstrap.min.css set `[hidden] { display: none !important; }` so we also need the `!important` here to be able to override the default hidden behavior on the sphinx rendered scikit-learn.org. See: https://github.com/scikit-learn/scikit-learn/issues/21755 */display: inline-block !important;position: relative;}#sk-container-id-1 div.sk-text-repr-fallback {display: none;}</style><div id=\"sk-container-id-1\" class=\"sk-top-container\"><div class=\"sk-text-repr-fallback\"><pre>LogisticRegression()</pre><b>In a Jupyter environment, please rerun this cell to show the HTML representation or trust the notebook. <br />On GitHub, the HTML representation is unable to render, please try loading this page with nbviewer.org.</b></div><div class=\"sk-container\" hidden><div class=\"sk-item\"><div class=\"sk-estimator sk-toggleable\"><input class=\"sk-toggleable__control sk-hidden--visually\" id=\"sk-estimator-id-1\" type=\"checkbox\" checked><label for=\"sk-estimator-id-1\" class=\"sk-toggleable__label sk-toggleable__label-arrow\">LogisticRegression</label><div class=\"sk-toggleable__content\"><pre>LogisticRegression()</pre></div></div></div></div></div>"
      ],
      "text/plain": [
       "LogisticRegression()"
      ]
     },
     "execution_count": 22,
     "metadata": {},
     "output_type": "execute_result"
    }
   ],
   "source": [
    "from sklearn.linear_model import LogisticRegression\n",
    "from sklearn.metrics import accuracy_score\n",
    "\n",
    "#training the Logistic model\n",
    "clf_lr_pixel = LogisticRegression()\n",
    "clf_lr_pixel.fit(train_features_pixel,train_labels)"
   ]
  },
  {
   "cell_type": "code",
   "execution_count": 23,
   "id": "78da9615",
   "metadata": {},
   "outputs": [
    {
     "name": "stdout",
     "output_type": "stream",
     "text": [
      "Training: Model Accuracy -  73.03654743390358 %\n",
      "Validation: Model Accuracy -  68.14411612234318 %\n"
     ]
    }
   ],
   "source": [
    "preditions_train = clf_lr_pixel.predict(train_features_pixel)\n",
    "print(\"Training: Model Accuracy - \",accuracy_score(train_labels,preditions_train)*100,'%')\n",
    "\n",
    "predictions_val = clf_lr_pixel.predict(val_features_pixel)\n",
    "print(\"Validation: Model Accuracy - \",accuracy_score(predictions_val,val_labels)*100,'%')"
   ]
  },
  {
   "cell_type": "markdown",
   "id": "1b213966",
   "metadata": {},
   "source": [
    "Linear SVM"
   ]
  },
  {
   "cell_type": "code",
   "execution_count": 24,
   "id": "7bca171a",
   "metadata": {},
   "outputs": [
    {
     "name": "stderr",
     "output_type": "stream",
     "text": [
      "C:\\Anaconda123\\Lib\\site-packages\\sklearn\\svm\\_classes.py:32: FutureWarning: The default value of `dual` will change from `True` to `'auto'` in 1.5. Set the value of `dual` explicitly to suppress the warning.\n",
      "  warnings.warn(\n",
      "C:\\Anaconda123\\Lib\\site-packages\\sklearn\\svm\\_base.py:1242: ConvergenceWarning: Liblinear failed to converge, increase the number of iterations.\n",
      "  warnings.warn(\n"
     ]
    },
    {
     "data": {
      "text/html": [
       "<style>#sk-container-id-2 {color: black;}#sk-container-id-2 pre{padding: 0;}#sk-container-id-2 div.sk-toggleable {background-color: white;}#sk-container-id-2 label.sk-toggleable__label {cursor: pointer;display: block;width: 100%;margin-bottom: 0;padding: 0.3em;box-sizing: border-box;text-align: center;}#sk-container-id-2 label.sk-toggleable__label-arrow:before {content: \"▸\";float: left;margin-right: 0.25em;color: #696969;}#sk-container-id-2 label.sk-toggleable__label-arrow:hover:before {color: black;}#sk-container-id-2 div.sk-estimator:hover label.sk-toggleable__label-arrow:before {color: black;}#sk-container-id-2 div.sk-toggleable__content {max-height: 0;max-width: 0;overflow: hidden;text-align: left;background-color: #f0f8ff;}#sk-container-id-2 div.sk-toggleable__content pre {margin: 0.2em;color: black;border-radius: 0.25em;background-color: #f0f8ff;}#sk-container-id-2 input.sk-toggleable__control:checked~div.sk-toggleable__content {max-height: 200px;max-width: 100%;overflow: auto;}#sk-container-id-2 input.sk-toggleable__control:checked~label.sk-toggleable__label-arrow:before {content: \"▾\";}#sk-container-id-2 div.sk-estimator input.sk-toggleable__control:checked~label.sk-toggleable__label {background-color: #d4ebff;}#sk-container-id-2 div.sk-label input.sk-toggleable__control:checked~label.sk-toggleable__label {background-color: #d4ebff;}#sk-container-id-2 input.sk-hidden--visually {border: 0;clip: rect(1px 1px 1px 1px);clip: rect(1px, 1px, 1px, 1px);height: 1px;margin: -1px;overflow: hidden;padding: 0;position: absolute;width: 1px;}#sk-container-id-2 div.sk-estimator {font-family: monospace;background-color: #f0f8ff;border: 1px dotted black;border-radius: 0.25em;box-sizing: border-box;margin-bottom: 0.5em;}#sk-container-id-2 div.sk-estimator:hover {background-color: #d4ebff;}#sk-container-id-2 div.sk-parallel-item::after {content: \"\";width: 100%;border-bottom: 1px solid gray;flex-grow: 1;}#sk-container-id-2 div.sk-label:hover label.sk-toggleable__label {background-color: #d4ebff;}#sk-container-id-2 div.sk-serial::before {content: \"\";position: absolute;border-left: 1px solid gray;box-sizing: border-box;top: 0;bottom: 0;left: 50%;z-index: 0;}#sk-container-id-2 div.sk-serial {display: flex;flex-direction: column;align-items: center;background-color: white;padding-right: 0.2em;padding-left: 0.2em;position: relative;}#sk-container-id-2 div.sk-item {position: relative;z-index: 1;}#sk-container-id-2 div.sk-parallel {display: flex;align-items: stretch;justify-content: center;background-color: white;position: relative;}#sk-container-id-2 div.sk-item::before, #sk-container-id-2 div.sk-parallel-item::before {content: \"\";position: absolute;border-left: 1px solid gray;box-sizing: border-box;top: 0;bottom: 0;left: 50%;z-index: -1;}#sk-container-id-2 div.sk-parallel-item {display: flex;flex-direction: column;z-index: 1;position: relative;background-color: white;}#sk-container-id-2 div.sk-parallel-item:first-child::after {align-self: flex-end;width: 50%;}#sk-container-id-2 div.sk-parallel-item:last-child::after {align-self: flex-start;width: 50%;}#sk-container-id-2 div.sk-parallel-item:only-child::after {width: 0;}#sk-container-id-2 div.sk-dashed-wrapped {border: 1px dashed gray;margin: 0 0.4em 0.5em 0.4em;box-sizing: border-box;padding-bottom: 0.4em;background-color: white;}#sk-container-id-2 div.sk-label label {font-family: monospace;font-weight: bold;display: inline-block;line-height: 1.2em;}#sk-container-id-2 div.sk-label-container {text-align: center;}#sk-container-id-2 div.sk-container {/* jupyter's `normalize.less` sets `[hidden] { display: none; }` but bootstrap.min.css set `[hidden] { display: none !important; }` so we also need the `!important` here to be able to override the default hidden behavior on the sphinx rendered scikit-learn.org. See: https://github.com/scikit-learn/scikit-learn/issues/21755 */display: inline-block !important;position: relative;}#sk-container-id-2 div.sk-text-repr-fallback {display: none;}</style><div id=\"sk-container-id-2\" class=\"sk-top-container\"><div class=\"sk-text-repr-fallback\"><pre>LinearSVC(random_state=102)</pre><b>In a Jupyter environment, please rerun this cell to show the HTML representation or trust the notebook. <br />On GitHub, the HTML representation is unable to render, please try loading this page with nbviewer.org.</b></div><div class=\"sk-container\" hidden><div class=\"sk-item\"><div class=\"sk-estimator sk-toggleable\"><input class=\"sk-toggleable__control sk-hidden--visually\" id=\"sk-estimator-id-2\" type=\"checkbox\" checked><label for=\"sk-estimator-id-2\" class=\"sk-toggleable__label sk-toggleable__label-arrow\">LinearSVC</label><div class=\"sk-toggleable__content\"><pre>LinearSVC(random_state=102)</pre></div></div></div></div></div>"
      ],
      "text/plain": [
       "LinearSVC(random_state=102)"
      ]
     },
     "execution_count": 24,
     "metadata": {},
     "output_type": "execute_result"
    }
   ],
   "source": [
    "from sklearn.svm import LinearSVC\n",
    "\n",
    "#training the Logistic model\n",
    "clf_svc_pixel = LinearSVC(random_state=102)\n",
    "clf_svc_pixel.fit(train_features_pixel,train_labels)"
   ]
  },
  {
   "cell_type": "code",
   "execution_count": 25,
   "id": "08e0f644",
   "metadata": {},
   "outputs": [
    {
     "name": "stdout",
     "output_type": "stream",
     "text": [
      "Training: Model Accuracy -  77.77993779160187 %\n",
      "Validation: Model Accuracy -  68.01451529289787 %\n"
     ]
    }
   ],
   "source": [
    "preditions_train = clf_svc_pixel.predict(train_features_pixel)\n",
    "print(\"Training: Model Accuracy - \",accuracy_score(train_labels,preditions_train)*100,'%')\n",
    "\n",
    "predictions_val = clf_svc_pixel.predict(val_features_pixel)\n",
    "print(\"Validation: Model Accuracy - \",accuracy_score(predictions_val,val_labels)*100,'%')"
   ]
  },
  {
   "cell_type": "markdown",
   "id": "96d2da63",
   "metadata": {},
   "source": [
    "Method 2: HOG Features"
   ]
  },
  {
   "cell_type": "markdown",
   "id": "f23d1552",
   "metadata": {},
   "source": [
    "Image size should be in 64X128(Width X Height) shape to extract HOG features from images. So  changing image shape size to 64X128 first and then extract HOG features."
   ]
  },
  {
   "cell_type": "code",
   "execution_count": 26,
   "id": "5b2c2a02",
   "metadata": {},
   "outputs": [],
   "source": [
    "from skimage.feature import hog"
   ]
  },
  {
   "cell_type": "code",
   "execution_count": 31,
   "id": "376ac613",
   "metadata": {},
   "outputs": [
    {
     "ename": "NameError",
     "evalue": "name 'exposure' is not defined",
     "output_type": "error",
     "traceback": [
      "\u001b[1;31m---------------------------------------------------------------------------\u001b[0m",
      "\u001b[1;31mNameError\u001b[0m                                 Traceback (most recent call last)",
      "Cell \u001b[1;32mIn[31], line 26\u001b[0m\n\u001b[0;32m     23\u001b[0m ax1\u001b[38;5;241m.\u001b[39mset_title(\u001b[38;5;124m'\u001b[39m\u001b[38;5;124mInput image\u001b[39m\u001b[38;5;124m'\u001b[39m)\n\u001b[0;32m     25\u001b[0m \u001b[38;5;66;03m# Rescale histogram for better display\u001b[39;00m\n\u001b[1;32m---> 26\u001b[0m hog_image_rescaled \u001b[38;5;241m=\u001b[39m exposure\u001b[38;5;241m.\u001b[39mrescale_intensity(hog_image, in_range\u001b[38;5;241m=\u001b[39m(\u001b[38;5;241m0\u001b[39m, \u001b[38;5;241m10\u001b[39m))\n\u001b[0;32m     28\u001b[0m ax2\u001b[38;5;241m.\u001b[39maxis(\u001b[38;5;124m'\u001b[39m\u001b[38;5;124moff\u001b[39m\u001b[38;5;124m'\u001b[39m)\n\u001b[0;32m     29\u001b[0m ax2\u001b[38;5;241m.\u001b[39mimshow(hog_image_rescaled, cmap\u001b[38;5;241m=\u001b[39mplt\u001b[38;5;241m.\u001b[39mcm\u001b[38;5;241m.\u001b[39mgray)\n",
      "\u001b[1;31mNameError\u001b[0m: name 'exposure' is not defined"
     ]
    },
    {
     "data": {
      "image/png": "[encoded data removed]",
      "text/plain": [
       "<Figure size 800x400 with 2 Axes>"
      ]
     },
     "metadata": {},
     "output_type": "display_data"
    }
   ],
   "source": [
    "from skimage.color import rgb2gray\n",
    "from skimage.feature import hog\n",
    "import numpy as np\n",
    "import matplotlib.pyplot as plt\n",
    "\n",
    "# Assuming image is loaded and resized already\n",
    "image = imread(os.path.join(base_dir, train_files.iloc[index]))\n",
    "IMG_DIMS = (128, 64)\n",
    "image_resized = resize(image, IMG_DIMS)\n",
    "\n",
    "# Convert image to grayscale\n",
    "image_gray = rgb2gray(image_resized)\n",
    "\n",
    "# Calculate HOG features\n",
    "features, hog_image = hog(image_gray, orientations=9, pixels_per_cell=(8, 8),\n",
    "                          cells_per_block=(2, 2), visualize=True)\n",
    "\n",
    "# Display original and HOG image\n",
    "fig, (ax1, ax2) = plt.subplots(1, 2, figsize=(8, 4), sharex=True, sharey=True)\n",
    "\n",
    "ax1.axis('off')\n",
    "ax1.imshow(image_resized, cmap=plt.cm.gray)\n",
    "ax1.set_title('Input image')\n",
    "\n",
    "# Rescale histogram for better display\n",
    "hog_image_rescaled = exposure.rescale_intensity(hog_image, in_range=(0, 10))\n",
    "\n",
    "ax2.axis('off')\n",
    "ax2.imshow(hog_image_rescaled, cmap=plt.cm.gray)\n",
    "ax2.set_title('Histogram of Oriented Gradients')\n",
    "plt.show()\n"
   ]
  },
  {
   "cell_type": "code",
   "execution_count": 28,
   "id": "07a0e9db",
   "metadata": {},
   "outputs": [
    {
     "name": "stdout",
     "output_type": "stream",
     "text": [
      "0.20.0\n"
     ]
    }
   ],
   "source": [
    "import skimage\n",
    "print(skimage.__version__)\n"
   ]
  },
  {
   "cell_type": "code",
   "execution_count": 32,
   "id": "b894ee5e",
   "metadata": {},
   "outputs": [
    {
     "data": {
      "image/png": "[encoded data removed]",
      "text/plain": [
       "<Figure size 800x400 with 2 Axes>"
      ]
     },
     "metadata": {},
     "output_type": "display_data"
    }
   ],
   "source": [
    "from skimage.color import rgb2gray\n",
    "from skimage.feature import hog\n",
    "from skimage import exposure  # Import exposure module for rescale_intensity\n",
    "import numpy as np\n",
    "import matplotlib.pyplot as plt\n",
    "\n",
    "# Assuming image is loaded and resized already\n",
    "image = imread(os.path.join(base_dir, train_files.iloc[index]))\n",
    "IMG_DIMS = (128, 64)\n",
    "image_resized = resize(image, IMG_DIMS)\n",
    "\n",
    "# Convert image to grayscale\n",
    "image_gray = rgb2gray(image_resized)\n",
    "\n",
    "# Calculate HOG features\n",
    "features, hog_image = hog(image_gray, orientations=9, pixels_per_cell=(8, 8),\n",
    "                          cells_per_block=(2, 2), visualize=True)\n",
    "\n",
    "# Display original and HOG image\n",
    "fig, (ax1, ax2) = plt.subplots(1, 2, figsize=(8, 4), sharex=True, sharey=True)\n",
    "\n",
    "ax1.axis('off')\n",
    "ax1.imshow(image_resized, cmap=plt.cm.gray)\n",
    "ax1.set_title('Input image')\n",
    "\n",
    "# Rescale histogram for better display\n",
    "hog_image_rescaled = exposure.rescale_intensity(hog_image, in_range=(0, 10))\n",
    "\n",
    "ax2.axis('off')\n",
    "ax2.imshow(hog_image_rescaled, cmap=plt.cm.gray)\n",
    "ax2.set_title('Histogram of Oriented Gradients')\n",
    "plt.show()\n"
   ]
  },
  {
   "cell_type": "code",
   "execution_count": 33,
   "id": "88591c38",
   "metadata": {},
   "outputs": [
    {
     "data": {
      "text/plain": [
       "(3780,)"
      ]
     },
     "execution_count": 33,
     "metadata": {},
     "output_type": "execute_result"
    }
   ],
   "source": [
    "features.shape"
   ]
  },
  {
   "cell_type": "markdown",
   "id": "a91b5b80",
   "metadata": {},
   "source": [
    "CalculatING HOG features for both training and Validation images"
   ]
  },
  {
   "cell_type": "code",
   "execution_count": null,
   "id": "036289a1",
   "metadata": {},
   "outputs": [],
   "source": []
  },
  {
   "cell_type": "code",
   "execution_count": 35,
   "id": "5334e82c",
   "metadata": {},
   "outputs": [
    {
     "data": {
      "text/plain": [
       "((15432, 3780), (3858, 3780))"
      ]
     },
     "execution_count": 35,
     "metadata": {},
     "output_type": "execute_result"
    }
   ],
   "source": [
    "from skimage.color import rgb2gray\n",
    "from skimage.feature import hog\n",
    "import numpy as np\n",
    "\n",
    "# Define the dimensions for resizing\n",
    "IMG_DIMS = (128, 64)\n",
    "\n",
    "# Initialize lists to store HOG features\n",
    "train_features_hog = []\n",
    "val_features_hog = []\n",
    "\n",
    "# For Training Images\n",
    "for i in train_files:\n",
    "    image = imread(os.path.join(base_dir, i))\n",
    "    image = resize(image, IMG_DIMS)\n",
    "    # Convert image to grayscale\n",
    "    image_gray = rgb2gray(image)\n",
    "    # Calculate HOG features\n",
    "    features = hog(image_gray, orientations=9, pixels_per_cell=(8, 8),\n",
    "                   cells_per_block=(2, 2), visualize=False)  # visualize=False for features only\n",
    "    hog_features = np.reshape(features, (features.shape[0]))\n",
    "    train_features_hog.append(hog_features)\n",
    "\n",
    "train_features_hog = np.array(train_features_hog)\n",
    "\n",
    "# For Validation Images\n",
    "for i in val_files:\n",
    "    image = imread(os.path.join(base_dir, i))\n",
    "    image = resize(image, IMG_DIMS)\n",
    "    # Convert image to grayscale\n",
    "    image_gray = rgb2gray(image)\n",
    "    # Calculate HOG features\n",
    "    features = hog(image_gray, orientations=9, pixels_per_cell=(8, 8),\n",
    "                   cells_per_block=(2, 2), visualize=False)  # visualize=False for features only\n",
    "    hog_features = np.reshape(features, (features.shape[0]))\n",
    "    val_features_hog.append(hog_features)\n",
    "\n",
    "val_features_hog = np.array(val_features_hog)\n",
    "\n",
    "# Check the shape of the final lists after processing all the images\n",
    "train_features_hog.shape, val_features_hog.shape\n"
   ]
  },
  {
   "cell_type": "markdown",
   "id": "1185aa93",
   "metadata": {},
   "source": [
    " Model2: Model building using HOG Features"
   ]
  },
  {
   "cell_type": "markdown",
   "id": "41664b45",
   "metadata": {},
   "source": [
    "Logistic Regression"
   ]
  },
  {
   "cell_type": "code",
   "execution_count": 36,
   "id": "dd262113",
   "metadata": {},
   "outputs": [
    {
     "name": "stderr",
     "output_type": "stream",
     "text": [
      "C:\\Anaconda123\\Lib\\site-packages\\sklearn\\linear_model\\_logistic.py:460: ConvergenceWarning: lbfgs failed to converge (status=1):\n",
      "STOP: TOTAL NO. of ITERATIONS REACHED LIMIT.\n",
      "\n",
      "Increase the number of iterations (max_iter) or scale the data as shown in:\n",
      "    https://scikit-learn.org/stable/modules/preprocessing.html\n",
      "Please also refer to the documentation for alternative solver options:\n",
      "    https://scikit-learn.org/stable/modules/linear_model.html#logistic-regression\n",
      "  n_iter_i = _check_optimize_result(\n"
     ]
    },
    {
     "data": {
      "text/html": [
       "<style>#sk-container-id-3 {color: black;}#sk-container-id-3 pre{padding: 0;}#sk-container-id-3 div.sk-toggleable {background-color: white;}#sk-container-id-3 label.sk-toggleable__label {cursor: pointer;display: block;width: 100%;margin-bottom: 0;padding: 0.3em;box-sizing: border-box;text-align: center;}#sk-container-id-3 label.sk-toggleable__label-arrow:before {content: \"▸\";float: left;margin-right: 0.25em;color: #696969;}#sk-container-id-3 label.sk-toggleable__label-arrow:hover:before {color: black;}#sk-container-id-3 div.sk-estimator:hover label.sk-toggleable__label-arrow:before {color: black;}#sk-container-id-3 div.sk-toggleable__content {max-height: 0;max-width: 0;overflow: hidden;text-align: left;background-color: #f0f8ff;}#sk-container-id-3 div.sk-toggleable__content pre {margin: 0.2em;color: black;border-radius: 0.25em;background-color: #f0f8ff;}#sk-container-id-3 input.sk-toggleable__control:checked~div.sk-toggleable__content {max-height: 200px;max-width: 100%;overflow: auto;}#sk-container-id-3 input.sk-toggleable__control:checked~label.sk-toggleable__label-arrow:before {content: \"▾\";}#sk-container-id-3 div.sk-estimator input.sk-toggleable__control:checked~label.sk-toggleable__label {background-color: #d4ebff;}#sk-container-id-3 div.sk-label input.sk-toggleable__control:checked~label.sk-toggleable__label {background-color: #d4ebff;}#sk-container-id-3 input.sk-hidden--visually {border: 0;clip: rect(1px 1px 1px 1px);clip: rect(1px, 1px, 1px, 1px);height: 1px;margin: -1px;overflow: hidden;padding: 0;position: absolute;width: 1px;}#sk-container-id-3 div.sk-estimator {font-family: monospace;background-color: #f0f8ff;border: 1px dotted black;border-radius: 0.25em;box-sizing: border-box;margin-bottom: 0.5em;}#sk-container-id-3 div.sk-estimator:hover {background-color: #d4ebff;}#sk-container-id-3 div.sk-parallel-item::after {content: \"\";width: 100%;border-bottom: 1px solid gray;flex-grow: 1;}#sk-container-id-3 div.sk-label:hover label.sk-toggleable__label {background-color: #d4ebff;}#sk-container-id-3 div.sk-serial::before {content: \"\";position: absolute;border-left: 1px solid gray;box-sizing: border-box;top: 0;bottom: 0;left: 50%;z-index: 0;}#sk-container-id-3 div.sk-serial {display: flex;flex-direction: column;align-items: center;background-color: white;padding-right: 0.2em;padding-left: 0.2em;position: relative;}#sk-container-id-3 div.sk-item {position: relative;z-index: 1;}#sk-container-id-3 div.sk-parallel {display: flex;align-items: stretch;justify-content: center;background-color: white;position: relative;}#sk-container-id-3 div.sk-item::before, #sk-container-id-3 div.sk-parallel-item::before {content: \"\";position: absolute;border-left: 1px solid gray;box-sizing: border-box;top: 0;bottom: 0;left: 50%;z-index: -1;}#sk-container-id-3 div.sk-parallel-item {display: flex;flex-direction: column;z-index: 1;position: relative;background-color: white;}#sk-container-id-3 div.sk-parallel-item:first-child::after {align-self: flex-end;width: 50%;}#sk-container-id-3 div.sk-parallel-item:last-child::after {align-self: flex-start;width: 50%;}#sk-container-id-3 div.sk-parallel-item:only-child::after {width: 0;}#sk-container-id-3 div.sk-dashed-wrapped {border: 1px dashed gray;margin: 0 0.4em 0.5em 0.4em;box-sizing: border-box;padding-bottom: 0.4em;background-color: white;}#sk-container-id-3 div.sk-label label {font-family: monospace;font-weight: bold;display: inline-block;line-height: 1.2em;}#sk-container-id-3 div.sk-label-container {text-align: center;}#sk-container-id-3 div.sk-container {/* jupyter's `normalize.less` sets `[hidden] { display: none; }` but bootstrap.min.css set `[hidden] { display: none !important; }` so we also need the `!important` here to be able to override the default hidden behavior on the sphinx rendered scikit-learn.org. See: https://github.com/scikit-learn/scikit-learn/issues/21755 */display: inline-block !important;position: relative;}#sk-container-id-3 div.sk-text-repr-fallback {display: none;}</style><div id=\"sk-container-id-3\" class=\"sk-top-container\"><div class=\"sk-text-repr-fallback\"><pre>LogisticRegression()</pre><b>In a Jupyter environment, please rerun this cell to show the HTML representation or trust the notebook. <br />On GitHub, the HTML representation is unable to render, please try loading this page with nbviewer.org.</b></div><div class=\"sk-container\" hidden><div class=\"sk-item\"><div class=\"sk-estimator sk-toggleable\"><input class=\"sk-toggleable__control sk-hidden--visually\" id=\"sk-estimator-id-3\" type=\"checkbox\" checked><label for=\"sk-estimator-id-3\" class=\"sk-toggleable__label sk-toggleable__label-arrow\">LogisticRegression</label><div class=\"sk-toggleable__content\"><pre>LogisticRegression()</pre></div></div></div></div></div>"
      ],
      "text/plain": [
       "LogisticRegression()"
      ]
     },
     "execution_count": 36,
     "metadata": {},
     "output_type": "execute_result"
    }
   ],
   "source": [
    "from sklearn.linear_model import LogisticRegression\n",
    "from sklearn.metrics import accuracy_score\n",
    "\n",
    "#training the Logistic model\n",
    "clf_lr_hog = LogisticRegression()\n",
    "clf_lr_hog.fit(train_features_hog,train_labels)"
   ]
  },
  {
   "cell_type": "code",
   "execution_count": 37,
   "id": "bad1ca2a",
   "metadata": {},
   "outputs": [
    {
     "name": "stdout",
     "output_type": "stream",
     "text": [
      "Training: Model Accuracy -  88.67288750648004 %\n",
      "Validation: Model Accuracy -  81.82996371176775 %\n"
     ]
    }
   ],
   "source": [
    "preditions_train = clf_lr_hog.predict(train_features_hog)\n",
    "print(\"Training: Model Accuracy - \",accuracy_score(train_labels,preditions_train)*100,'%')\n",
    "\n",
    "predictions_val = clf_lr_hog.predict(val_features_hog)\n",
    "print(\"Validation: Model Accuracy - \",accuracy_score(predictions_val,val_labels)*100,'%')"
   ]
  },
  {
   "cell_type": "markdown",
   "id": "79c3eb55",
   "metadata": {},
   "source": [
    "Linear SVM"
   ]
  },
  {
   "cell_type": "code",
   "execution_count": 38,
   "id": "0e1bd735",
   "metadata": {},
   "outputs": [
    {
     "name": "stderr",
     "output_type": "stream",
     "text": [
      "C:\\Anaconda123\\Lib\\site-packages\\sklearn\\svm\\_classes.py:32: FutureWarning: The default value of `dual` will change from `True` to `'auto'` in 1.5. Set the value of `dual` explicitly to suppress the warning.\n",
      "  warnings.warn(\n",
      "C:\\Anaconda123\\Lib\\site-packages\\sklearn\\svm\\_base.py:1242: ConvergenceWarning: Liblinear failed to converge, increase the number of iterations.\n",
      "  warnings.warn(\n"
     ]
    },
    {
     "data": {
      "text/html": [
       "<style>#sk-container-id-4 {color: black;}#sk-container-id-4 pre{padding: 0;}#sk-container-id-4 div.sk-toggleable {background-color: white;}#sk-container-id-4 label.sk-toggleable__label {cursor: pointer;display: block;width: 100%;margin-bottom: 0;padding: 0.3em;box-sizing: border-box;text-align: center;}#sk-container-id-4 label.sk-toggleable__label-arrow:before {content: \"▸\";float: left;margin-right: 0.25em;color: #696969;}#sk-container-id-4 label.sk-toggleable__label-arrow:hover:before {color: black;}#sk-container-id-4 div.sk-estimator:hover label.sk-toggleable__label-arrow:before {color: black;}#sk-container-id-4 div.sk-toggleable__content {max-height: 0;max-width: 0;overflow: hidden;text-align: left;background-color: #f0f8ff;}#sk-container-id-4 div.sk-toggleable__content pre {margin: 0.2em;color: black;border-radius: 0.25em;background-color: #f0f8ff;}#sk-container-id-4 input.sk-toggleable__control:checked~div.sk-toggleable__content {max-height: 200px;max-width: 100%;overflow: auto;}#sk-container-id-4 input.sk-toggleable__control:checked~label.sk-toggleable__label-arrow:before {content: \"▾\";}#sk-container-id-4 div.sk-estimator input.sk-toggleable__control:checked~label.sk-toggleable__label {background-color: #d4ebff;}#sk-container-id-4 div.sk-label input.sk-toggleable__control:checked~label.sk-toggleable__label {background-color: #d4ebff;}#sk-container-id-4 input.sk-hidden--visually {border: 0;clip: rect(1px 1px 1px 1px);clip: rect(1px, 1px, 1px, 1px);height: 1px;margin: -1px;overflow: hidden;padding: 0;position: absolute;width: 1px;}#sk-container-id-4 div.sk-estimator {font-family: monospace;background-color: #f0f8ff;border: 1px dotted black;border-radius: 0.25em;box-sizing: border-box;margin-bottom: 0.5em;}#sk-container-id-4 div.sk-estimator:hover {background-color: #d4ebff;}#sk-container-id-4 div.sk-parallel-item::after {content: \"\";width: 100%;border-bottom: 1px solid gray;flex-grow: 1;}#sk-container-id-4 div.sk-label:hover label.sk-toggleable__label {background-color: #d4ebff;}#sk-container-id-4 div.sk-serial::before {content: \"\";position: absolute;border-left: 1px solid gray;box-sizing: border-box;top: 0;bottom: 0;left: 50%;z-index: 0;}#sk-container-id-4 div.sk-serial {display: flex;flex-direction: column;align-items: center;background-color: white;padding-right: 0.2em;padding-left: 0.2em;position: relative;}#sk-container-id-4 div.sk-item {position: relative;z-index: 1;}#sk-container-id-4 div.sk-parallel {display: flex;align-items: stretch;justify-content: center;background-color: white;position: relative;}#sk-container-id-4 div.sk-item::before, #sk-container-id-4 div.sk-parallel-item::before {content: \"\";position: absolute;border-left: 1px solid gray;box-sizing: border-box;top: 0;bottom: 0;left: 50%;z-index: -1;}#sk-container-id-4 div.sk-parallel-item {display: flex;flex-direction: column;z-index: 1;position: relative;background-color: white;}#sk-container-id-4 div.sk-parallel-item:first-child::after {align-self: flex-end;width: 50%;}#sk-container-id-4 div.sk-parallel-item:last-child::after {align-self: flex-start;width: 50%;}#sk-container-id-4 div.sk-parallel-item:only-child::after {width: 0;}#sk-container-id-4 div.sk-dashed-wrapped {border: 1px dashed gray;margin: 0 0.4em 0.5em 0.4em;box-sizing: border-box;padding-bottom: 0.4em;background-color: white;}#sk-container-id-4 div.sk-label label {font-family: monospace;font-weight: bold;display: inline-block;line-height: 1.2em;}#sk-container-id-4 div.sk-label-container {text-align: center;}#sk-container-id-4 div.sk-container {/* jupyter's `normalize.less` sets `[hidden] { display: none; }` but bootstrap.min.css set `[hidden] { display: none !important; }` so we also need the `!important` here to be able to override the default hidden behavior on the sphinx rendered scikit-learn.org. See: https://github.com/scikit-learn/scikit-learn/issues/21755 */display: inline-block !important;position: relative;}#sk-container-id-4 div.sk-text-repr-fallback {display: none;}</style><div id=\"sk-container-id-4\" class=\"sk-top-container\"><div class=\"sk-text-repr-fallback\"><pre>LinearSVC()</pre><b>In a Jupyter environment, please rerun this cell to show the HTML representation or trust the notebook. <br />On GitHub, the HTML representation is unable to render, please try loading this page with nbviewer.org.</b></div><div class=\"sk-container\" hidden><div class=\"sk-item\"><div class=\"sk-estimator sk-toggleable\"><input class=\"sk-toggleable__control sk-hidden--visually\" id=\"sk-estimator-id-4\" type=\"checkbox\" checked><label for=\"sk-estimator-id-4\" class=\"sk-toggleable__label sk-toggleable__label-arrow\">LinearSVC</label><div class=\"sk-toggleable__content\"><pre>LinearSVC()</pre></div></div></div></div></div>"
      ],
      "text/plain": [
       "LinearSVC()"
      ]
     },
     "execution_count": 38,
     "metadata": {},
     "output_type": "execute_result"
    }
   ],
   "source": [
    "from sklearn.svm import LinearSVC\n",
    "\n",
    "#training the Logistic model\n",
    "clf_svc_hog = LinearSVC()\n",
    "clf_svc_hog.fit(train_features_hog,train_labels)"
   ]
  },
  {
   "cell_type": "code",
   "execution_count": 39,
   "id": "d2d8ea84",
   "metadata": {},
   "outputs": [
    {
     "name": "stdout",
     "output_type": "stream",
     "text": [
      "Training: Model Accuracy -  92.29523068947641 %\n",
      "Validation: Model Accuracy -  79.98963193364438 %\n"
     ]
    }
   ],
   "source": [
    "preditions_train = clf_svc_hog.predict(train_features_hog)\n",
    "print(\"Training: Model Accuracy - \",accuracy_score(train_labels,preditions_train)*100,'%')\n",
    "\n",
    "predictions_val = clf_svc_hog.predict(val_features_hog)\n",
    "print(\"Validation: Model Accuracy - \",accuracy_score(predictions_val,val_labels)*100,'%')"
   ]
  },
  {
   "cell_type": "code",
   "execution_count": 40,
   "id": "aff9ced3",
   "metadata": {},
   "outputs": [],
   "source": [
    "import pickle"
   ]
  },
  {
   "cell_type": "code",
   "execution_count": 41,
   "id": "40b88d89",
   "metadata": {},
   "outputs": [],
   "source": [
    "with open('logistic_model_hog.pkl', 'wb') as f:\n",
    "    pickle.dump(clf_lr_hog, f)\n"
   ]
  },
  {
   "cell_type": "code",
   "execution_count": 42,
   "id": "f4b1f045",
   "metadata": {},
   "outputs": [],
   "source": [
    "with open('svc_model_hog.pkl', 'wb') as f:\n",
    "    pickle.dump(clf_svc_hog, f)"
   ]
  },
  {
   "cell_type": "code",
   "execution_count": 43,
   "id": "2a6d2bd1",
   "metadata": {},
   "outputs": [],
   "source": [
    "import streamlit as st\n",
    "import os\n",
    "import numpy as np\n",
    "from skimage.io import imread, imshow\n",
    "from skimage.transform import resize\n",
    "from skimage.feature import hog\n",
    "from sklearn.linear_model import LogisticRegression\n",
    "from sklearn.svm import LinearSVC\n",
    "import pickle"
   ]
  },
  {
   "cell_type": "code",
   "execution_count": 44,
   "id": "70e0113c",
   "metadata": {},
   "outputs": [],
   "source": [
    "with open('logistic_model_hog.pkl', 'rb') as f:\n",
    "    clf_lr_hog = pickle.load(f)"
   ]
  },
  {
   "cell_type": "code",
   "execution_count": 45,
   "id": "e50b6473",
   "metadata": {},
   "outputs": [],
   "source": [
    "with open('svc_model_hog.pkl', 'rb') as f:\n",
    "    clf_svc_hog = pickle.load(f)"
   ]
  },
  {
   "cell_type": "code",
   "execution_count": null,
   "id": "eea7c219",
   "metadata": {},
   "outputs": [],
   "source": [
    "\n"
   ]
  },
  {
   "cell_type": "code",
   "execution_count": null,
   "id": "03bf5506",
   "metadata": {},
   "outputs": [],
   "source": []
  },
  {
   "cell_type": "code",
   "execution_count": null,
   "id": "18fb39b4",
   "metadata": {},
   "outputs": [],
   "source": []
  },
  {
   "cell_type": "code",
   "execution_count": 50,
   "id": "d9b6f608",
   "metadata": {},
   "outputs": [],
   "source": [
    "image_resized = resize(image, IMG_DIMS)\n",
    "\n",
    "    "
   ]
  },
  {
   "cell_type": "code",
   "execution_count": null,
   "id": "7030197b",
   "metadata": {},
   "outputs": [],
   "source": []
  },
  {
   "cell_type": "code",
   "execution_count": 52,
   "id": "47a5d70e",
   "metadata": {},
   "outputs": [
    {
     "name": "stdout",
     "output_type": "stream",
     "text": [
      "Name: scikit-imageNote: you may need to restart the kernel to use updated packages.\n",
      "\n",
      "Version: 0.20.0\n",
      "Summary: Image processing in Python\n",
      "Home-page: https://scikit-image.org\n",
      "Author: \n",
      "Author-email: \n",
      "License: Files: *\n",
      "Copyright: 2009-2022 the scikit-image team\n",
      "License: BSD-3-Clause\n",
      "\n",
      "Files: doc/source/themes/scikit-image/layout.html\n",
      "Copyright: 2007-2010 the Sphinx team\n",
      "License: BSD-3-Clause\n",
      "\n",
      "Files: skimage/feature/_canny.py\n",
      "       skimage/filters/edges.py\n",
      "       skimage/filters/_rank_order.py\n",
      "       skimage/morphology/_skeletonize.py\n",
      "       skimage/morphology/tests/test_watershed.py\n",
      "       skimage/morphology/watershed.py\n",
      "       skimage/segmentation/heap_general.pxi\n",
      "       skimage/segmentation/heap_watershed.pxi\n",
      "       skimage/segmentation/_watershed.py\n",
      "       skimage/segmentation/_watershed_cy.pyx\n",
      "Copyright: 2003-2009 Massachusetts Institute of Technology\n",
      "           2009-2011 Broad Institute\n",
      "           2003 Lee Kamentsky\n",
      "           2003-2005 Peter J. Verveer\n",
      "License: BSD-3-Clause\n",
      "\n",
      "Files: skimage/filters/thresholding.py\n",
      "       skimage/graph/_mcp.pyx\n",
      "       skimage/graph/heap.pyx\n",
      "Copyright: 2009-2015 Board of Regents of the University of\n",
      "           Wisconsin-Madison, Broad Institute of MIT and Harvard,\n",
      "           and Max Planck Institute of Molecular Cell Biology and\n",
      "           Genetics\n",
      "           2009 Zachary Pincus\n",
      "           2009 Almar Klein\n",
      "License: BSD-2-Clause\n",
      "\n",
      "File: skimage/morphology/grayreconstruct.py\n",
      "      skimage/morphology/tests/test_reconstruction.py\n",
      "Copyright: 2003-2009 Massachusetts Institute of Technology\n",
      "           2009-2011 Broad Institute\n",
      "           2003 Lee Kamentsky\n",
      "License: BSD-3-Clause\n",
      "\n",
      "File: skimage/morphology/_grayreconstruct.pyx\n",
      "Copyright: 2003-2009 Massachusetts Institute of Technology\n",
      "           2009-2011 Broad Institute\n",
      "           2003 Lee Kamentsky\n",
      "           2022 Gregory Lee (added a 64-bit integer variant for large images)\n",
      "License: BSD-3-Clause\n",
      "\n",
      "File: skimage/segmentation/_expand_labels.py\n",
      "Copyright: 2020 Broad Institute\n",
      "           2020 CellProfiler team\n",
      "License: BSD-3-Clause\n",
      "\n",
      "File: skimage/exposure/_adapthist.py\n",
      "License: GraphicsGems-EULA\n",
      "\n",
      "Function: skimage/morphology/_skeletonize_cy.pyx:_skeletonize_loop\n",
      "Copyright: 2003-2009 Massachusetts Institute of Technology\n",
      "           2009-2011 Broad Institute\n",
      "           2003 Lee Kamentsky\n",
      "License: BSD-3-Clause\n",
      "\n",
      "Function: skimage/_shared/version_requirements.py:_check_version\n",
      "Copyright: 2013 The IPython Development Team\n",
      "License: BSD-3-Clause\n",
      "\n",
      "Function: skimage/_shared/version_requirements.py:is_installed\n",
      "Copyright: 2009-2011 Pierre Raybaut\n",
      "License: MIT\n",
      "\n",
      "\n",
      "License: BSD-2-Clause\n",
      "\n",
      "Redistribution and use in source and binary forms, with or without\n",
      "modification, are permitted provided that the following conditions\n",
      "are met:\n",
      "1. Redistributions of source code must retain the above copyright\n",
      "   notice, this list of conditions and the following disclaimer.\n",
      "2. Redistributions in binary form must reproduce the above copyright\n",
      "   notice, this list of conditions and the following disclaimer in the\n",
      "   documentation and/or other materials provided with the distribution.\n",
      ".\n",
      "THIS SOFTWARE IS PROVIDED BY THE COPYRIGHT HOLDERS AND CONTRIBUTORS\n",
      "``AS IS'' AND ANY EXPRESS OR IMPLIED WARRANTIES, INCLUDING, BUT NOT\n",
      "LIMITED TO, THE IMPLIED WARRANTIES OF MERCHANTABILITY AND FITNESS FOR\n",
      "A PARTICULAR PURPOSE ARE DISCLAIMED. IN NO EVENT SHALL THE HOLDERS OR\n",
      "CONTRIBUTORS BE LIABLE FOR ANY DIRECT, INDIRECT, INCIDENTAL, SPECIAL,\n",
      "EXEMPLARY, OR CONSEQUENTIAL DAMAGES (INCLUDING, BUT NOT LIMITED TO,\n",
      "PROCUREMENT OF SUBSTITUTE GOODS OR SERVICES; LOSS OF USE, DATA, OR\n",
      "PROFITS; OR BUSINESS INTERRUPTION) HOWEVER CAUSED AND ON ANY THEORY OF\n",
      "LIABILITY, WHETHER IN CONTRACT, STRICT LIABILITY, OR TORT (INCLUDING\n",
      "NEGLIGENCE OR OTHERWISE) ARISING IN ANY WAY OUT OF THE USE OF THIS\n",
      "SOFTWARE, EVEN IF ADVISED OF THE POSSIBILITY OF SUCH DAMAGE.\n",
      "\n",
      "License: BSD-3-Clause\n",
      "\n",
      "Redistribution and use in source and binary forms, with or without\n",
      "modification, are permitted provided that the following conditions\n",
      "are met:\n",
      "1. Redistributions of source code must retain the above copyright\n",
      "   notice, this list of conditions and the following disclaimer.\n",
      "2. Redistributions in binary form must reproduce the above copyright\n",
      "   notice, this list of conditions and the following disclaimer in the\n",
      "   documentation and/or other materials provided with the distribution.\n",
      "3. Neither the name of the University nor the names of its contributors\n",
      "   may be used to endorse or promote products derived from this software\n",
      "   without specific prior written permission.\n",
      ".\n",
      "THIS SOFTWARE IS PROVIDED BY THE COPYRIGHT HOLDERS AND CONTRIBUTORS\n",
      "``AS IS'' AND ANY EXPRESS OR IMPLIED WARRANTIES, INCLUDING, BUT NOT\n",
      "LIMITED TO, THE IMPLIED WARRANTIES OF MERCHANTABILITY AND FITNESS FOR\n",
      "A PARTICULAR PURPOSE ARE DISCLAIMED. IN NO EVENT SHALL THE HOLDERS OR\n",
      "CONTRIBUTORS BE LIABLE FOR ANY DIRECT, INDIRECT, INCIDENTAL, SPECIAL,\n",
      "EXEMPLARY, OR CONSEQUENTIAL DAMAGES (INCLUDING, BUT NOT LIMITED TO,\n",
      "PROCUREMENT OF SUBSTITUTE GOODS OR SERVICES; LOSS OF USE, DATA, OR\n",
      "PROFITS; OR BUSINESS INTERRUPTION) HOWEVER CAUSED AND ON ANY THEORY OF\n",
      "LIABILITY, WHETHER IN CONTRACT, STRICT LIABILITY, OR TORT (INCLUDING\n",
      "NEGLIGENCE OR OTHERWISE) ARISING IN ANY WAY OUT OF THE USE OF THIS\n",
      "SOFTWARE, EVEN IF ADVISED OF THE POSSIBILITY OF SUCH DAMAGE.\n",
      "\n",
      "License: MIT\n",
      "\n",
      "Permission is hereby granted, free of charge, to any person obtaining a copy\n",
      "of this software and associated documentation files (the \"Software\"), to deal\n",
      "in the Software without restriction, including without limitation the rights\n",
      "to use, copy, modify, merge, publish, distribute, sublicense, and/or sell\n",
      "copies of the Software, and to permit persons to whom the Software is\n",
      "furnished to do so, subject to the following conditions:\n",
      "\n",
      "The above copyright notice and this permission notice shall be included in all\n",
      "copies or substantial portions of the Software.\n",
      "\n",
      "THE SOFTWARE IS PROVIDED \"AS IS\", WITHOUT WARRANTY OF ANY KIND, EXPRESS OR\n",
      "IMPLIED, INCLUDING BUT NOT LIMITED TO THE WARRANTIES OF MERCHANTABILITY,\n",
      "FITNESS FOR A PARTICULAR PURPOSE AND NONINFRINGEMENT. IN NO EVENT SHALL THE\n",
      "AUTHORS OR COPYRIGHT HOLDERS BE LIABLE FOR ANY CLAIM, DAMAGES OR OTHER\n",
      "LIABILITY, WHETHER IN AN ACTION OF CONTRACT, TORT OR OTHERWISE, ARISING FROM,\n",
      "OUT OF OR IN CONNECTION WITH THE SOFTWARE OR THE USE OR OTHER DEALINGS IN THE\n",
      "SOFTWARE.\n",
      "\n",
      "License: GraphicsGems-EULA\n",
      "\n",
      "The Graphics Gems code is copyright-protected. In other words, you cannot\n",
      "claim the text of the code as your own and resell it. Using the code is\n",
      "permitted in any program, product, or library, non-commercial or commercial.\n",
      "Giving credit is not required, though is a nice gesture. The code comes as-is,\n",
      "and if there are any flaws or problems with any Gems code, nobody involved with\n",
      "Gems - authors, editors, publishers, or webmasters - are to be held\n",
      "responsible. Basically, don't be a jerk, and remember that anything free\n",
      "comes with no guarantee.\n",
      "Location: C:\\Anaconda123\\Lib\\site-packages\n",
      "Requires: imageio, lazy_loader, networkx, numpy, packaging, pillow, PyWavelets, scipy, tifffile\n",
      "Required-by: \n"
     ]
    }
   ],
   "source": [
    "pip show scikit-image\n"
   ]
  },
  {
   "cell_type": "code",
   "execution_count": 53,
   "id": "ed5465c6",
   "metadata": {},
   "outputs": [
    {
     "name": "stdout",
     "output_type": "stream",
     "text": [
      "Requirement already satisfied: scikit-image in c:\\anaconda123\\lib\\site-packages (0.20.0)\n",
      "Collecting scikit-image\n",
      "  Obtaining dependency information for scikit-image from https://files.pythonhosted.org/packages/50/b2/d5e97115733e2dc657e99868ae0237705b79d0c81f6ced21b8f0799a30d1/scikit_image-0.24.0-cp311-cp311-win_amd64.whl.metadata\n",
      "  Downloading scikit_image-0.24.0-cp311-cp311-win_amd64.whl.metadata (14 kB)\n",
      "Requirement already satisfied: numpy>=1.23 in c:\\anaconda123\\lib\\site-packages (from scikit-image) (1.24.3)\n",
      "Requirement already satisfied: scipy>=1.9 in c:\\anaconda123\\lib\\site-packages (from scikit-image) (1.11.1)\n",
      "Requirement already satisfied: networkx>=2.8 in c:\\anaconda123\\lib\\site-packages (from scikit-image) (3.1)\n",
      "Requirement already satisfied: pillow>=9.1 in c:\\anaconda123\\lib\\site-packages (from scikit-image) (9.4.0)\n",
      "Collecting imageio>=2.33 (from scikit-image)\n",
      "  Obtaining dependency information for imageio>=2.33 from https://files.pythonhosted.org/packages/3d/84/f1647217231f6cc46883e5d26e870cc3e1520d458ecd52d6df750810d53c/imageio-2.34.2-py3-none-any.whl.metadata\n",
      "  Downloading imageio-2.34.2-py3-none-any.whl.metadata (4.9 kB)\n",
      "Requirement already satisfied: tifffile>=2022.8.12 in c:\\anaconda123\\lib\\site-packages (from scikit-image) (2023.4.12)\n",
      "Requirement already satisfied: packaging>=21 in c:\\anaconda123\\lib\\site-packages (from scikit-image) (23.1)\n",
      "Collecting lazy-loader>=0.4 (from scikit-image)\n",
      "  Obtaining dependency information for lazy-loader>=0.4 from https://files.pythonhosted.org/packages/83/60/d497a310bde3f01cb805196ac61b7ad6dc5dcf8dce66634dc34364b20b4f/lazy_loader-0.4-py3-none-any.whl.metadata\n",
      "  Downloading lazy_loader-0.4-py3-none-any.whl.metadata (7.6 kB)\n",
      "Downloading scikit_image-0.24.0-cp311-cp311-win_amd64.whl (12.8 MB)\n",
      "   ---------------------------------------- 0.0/12.8 MB ? eta -:--:--\n",
      "   ---------------------------------------- 0.1/12.8 MB 1.7 MB/s eta 0:00:08\n",
      "   ---------------------------------------- 0.1/12.8 MB 1.8 MB/s eta 0:00:08\n",
      "    --------------------------------------- 0.3/12.8 MB 2.5 MB/s eta 0:00:06\n",
      "   - -------------------------------------- 0.5/12.8 MB 3.0 MB/s eta 0:00:05\n",
      "   -- ------------------------------------- 0.7/12.8 MB 3.2 MB/s eta 0:00:04\n",
      "   -- ------------------------------------- 0.9/12.8 MB 3.4 MB/s eta 0:00:04\n",
      "   --- ------------------------------------ 1.1/12.8 MB 3.6 MB/s eta 0:00:04\n",
      "   ---- ----------------------------------- 1.5/12.8 MB 4.2 MB/s eta 0:00:03\n",
      "   ----- ---------------------------------- 1.8/12.8 MB 4.6 MB/s eta 0:00:03\n",
      "   ------ --------------------------------- 2.1/12.8 MB 4.5 MB/s eta 0:00:03\n",
      "   ------- -------------------------------- 2.4/12.8 MB 4.7 MB/s eta 0:00:03\n",
      "   -------- ------------------------------- 2.6/12.8 MB 4.8 MB/s eta 0:00:03\n",
      "   -------- ------------------------------- 2.6/12.8 MB 4.7 MB/s eta 0:00:03\n",
      "   -------- ------------------------------- 2.7/12.8 MB 4.3 MB/s eta 0:00:03\n",
      "   -------- ------------------------------- 2.8/12.8 MB 4.1 MB/s eta 0:00:03\n",
      "   -------- ------------------------------- 2.9/12.8 MB 4.0 MB/s eta 0:00:03\n",
      "   --------- ------------------------------ 2.9/12.8 MB 3.7 MB/s eta 0:00:03\n",
      "   --------- ------------------------------ 3.0/12.8 MB 3.6 MB/s eta 0:00:03\n",
      "   --------- ------------------------------ 3.0/12.8 MB 3.5 MB/s eta 0:00:03\n",
      "   --------- ------------------------------ 3.1/12.8 MB 3.4 MB/s eta 0:00:03\n",
      "   --------- ------------------------------ 3.1/12.8 MB 3.2 MB/s eta 0:00:03\n",
      "   --------- ------------------------------ 3.2/12.8 MB 3.1 MB/s eta 0:00:04\n",
      "   ---------- ----------------------------- 3.3/12.8 MB 3.1 MB/s eta 0:00:04\n",
      "   ---------- ----------------------------- 3.3/12.8 MB 3.0 MB/s eta 0:00:04\n",
      "   ---------- ----------------------------- 3.4/12.8 MB 3.0 MB/s eta 0:00:04\n",
      "   ---------- ----------------------------- 3.5/12.8 MB 2.9 MB/s eta 0:00:04\n",
      "   ----------- ---------------------------- 3.6/12.8 MB 2.9 MB/s eta 0:00:04\n",
      "   ----------- ---------------------------- 3.7/12.8 MB 2.9 MB/s eta 0:00:04\n",
      "   ------------ --------------------------- 4.0/12.8 MB 3.0 MB/s eta 0:00:03\n",
      "   ------------- -------------------------- 4.4/12.8 MB 3.2 MB/s eta 0:00:03\n",
      "   -------------- ------------------------- 4.8/12.8 MB 3.4 MB/s eta 0:00:03\n",
      "   --------------- ------------------------ 5.1/12.8 MB 3.5 MB/s eta 0:00:03\n",
      "   --------------- ------------------------ 5.1/12.8 MB 3.5 MB/s eta 0:00:03\n",
      "   --------------- ------------------------ 5.1/12.8 MB 3.5 MB/s eta 0:00:03\n",
      "   ---------------- ----------------------- 5.3/12.8 MB 3.2 MB/s eta 0:00:03\n",
      "   ---------------- ----------------------- 5.3/12.8 MB 3.3 MB/s eta 0:00:03\n",
      "   ---------------- ----------------------- 5.3/12.8 MB 3.3 MB/s eta 0:00:03\n",
      "   ---------------- ----------------------- 5.3/12.8 MB 3.3 MB/s eta 0:00:03\n",
      "   ---------------- ----------------------- 5.3/12.8 MB 3.3 MB/s eta 0:00:03\n",
      "   ---------------- ----------------------- 5.3/12.8 MB 3.3 MB/s eta 0:00:03\n",
      "   ---------------- ----------------------- 5.3/12.8 MB 3.3 MB/s eta 0:00:03\n",
      "   ---------------- ----------------------- 5.3/12.8 MB 3.3 MB/s eta 0:00:03\n",
      "   ---------------- ----------------------- 5.3/12.8 MB 3.3 MB/s eta 0:00:03\n",
      "   ---------------- ----------------------- 5.3/12.8 MB 3.3 MB/s eta 0:00:03\n",
      "   ---------------- ----------------------- 5.3/12.8 MB 3.3 MB/s eta 0:00:03\n",
      "   ---------------- ----------------------- 5.3/12.8 MB 3.3 MB/s eta 0:00:03\n",
      "   ---------------- ----------------------- 5.3/12.8 MB 3.3 MB/s eta 0:00:03\n",
      "   ---------------- ----------------------- 5.3/12.8 MB 3.3 MB/s eta 0:00:03\n",
      "   ----------------------- ---------------- 7.5/12.8 MB 3.3 MB/s eta 0:00:02\n",
      "   ----------------------- ---------------- 7.7/12.8 MB 3.3 MB/s eta 0:00:02\n",
      "   ------------------------- -------------- 8.1/12.8 MB 3.4 MB/s eta 0:00:02\n",
      "   -------------------------- ------------- 8.5/12.8 MB 3.5 MB/s eta 0:00:02\n",
      "   -------------------------- ------------- 8.5/12.8 MB 3.5 MB/s eta 0:00:02\n",
      "   -------------------------- ------------- 8.7/12.8 MB 3.5 MB/s eta 0:00:02\n",
      "   --------------------------- ------------ 8.7/12.8 MB 3.4 MB/s eta 0:00:02\n",
      "   --------------------------- ------------ 8.8/12.8 MB 3.4 MB/s eta 0:00:02\n",
      "   --------------------------- ------------ 8.9/12.8 MB 3.4 MB/s eta 0:00:02\n",
      "   --------------------------- ------------ 8.9/12.8 MB 3.3 MB/s eta 0:00:02\n",
      "   --------------------------- ------------ 8.9/12.8 MB 3.3 MB/s eta 0:00:02\n",
      "   --------------------------- ------------ 8.9/12.8 MB 3.3 MB/s eta 0:00:02\n",
      "   --------------------------- ------------ 8.9/12.8 MB 3.3 MB/s eta 0:00:02\n",
      "   --------------------------- ------------ 8.9/12.8 MB 3.3 MB/s eta 0:00:02\n",
      "   --------------------------- ------------ 8.9/12.8 MB 3.3 MB/s eta 0:00:02\n",
      "   ---------------------------- ----------- 9.1/12.8 MB 3.1 MB/s eta 0:00:02\n",
      "   ---------------------------- ----------- 9.1/12.8 MB 3.1 MB/s eta 0:00:02\n",
      "   ----------------------------- ---------- 9.5/12.8 MB 3.1 MB/s eta 0:00:02\n",
      "   ----------------------------- ---------- 9.5/12.8 MB 3.1 MB/s eta 0:00:02\n",
      "   ------------------------------ --------- 9.6/12.8 MB 3.1 MB/s eta 0:00:02\n",
      "   ------------------------------ --------- 9.8/12.8 MB 3.1 MB/s eta 0:00:01\n",
      "   ------------------------------- -------- 10.1/12.8 MB 3.1 MB/s eta 0:00:01\n",
      "   -------------------------------- ------- 10.3/12.8 MB 3.1 MB/s eta 0:00:01\n",
      "   -------------------------------- ------- 10.5/12.8 MB 3.2 MB/s eta 0:00:01\n",
      "   --------------------------------- ------ 10.7/12.8 MB 3.2 MB/s eta 0:00:01\n",
      "   --------------------------------- ------ 10.8/12.8 MB 3.1 MB/s eta 0:00:01\n",
      "   --------------------------------- ------ 10.8/12.8 MB 3.1 MB/s eta 0:00:01\n",
      "   ---------------------------------- ----- 11.0/12.8 MB 3.1 MB/s eta 0:00:01\n",
      "   ---------------------------------- ----- 11.1/12.8 MB 3.1 MB/s eta 0:00:01\n",
      "   ----------------------------------- ---- 11.4/12.8 MB 3.1 MB/s eta 0:00:01\n",
      "   ------------------------------------ --- 11.7/12.8 MB 3.1 MB/s eta 0:00:01\n",
      "   ------------------------------------- -- 12.0/12.8 MB 3.1 MB/s eta 0:00:01\n",
      "   -------------------------------------- - 12.4/12.8 MB 3.1 MB/s eta 0:00:01\n",
      "   ---------------------------------------  12.8/12.8 MB 3.1 MB/s eta 0:00:01\n",
      "   ---------------------------------------  12.8/12.8 MB 3.1 MB/s eta 0:00:01\n",
      "   ---------------------------------------  12.8/12.8 MB 3.1 MB/s eta 0:00:01\n",
      "   ---------------------------------------  12.8/12.8 MB 3.1 MB/s eta 0:00:01\n",
      "   ---------------------------------------  12.8/12.8 MB 3.1 MB/s eta 0:00:01\n",
      "   ---------------------------------------  12.8/12.8 MB 3.1 MB/s eta 0:00:01\n",
      "   ---------------------------------------  12.8/12.8 MB 3.1 MB/s eta 0:00:01\n",
      "   ---------------------------------------  12.8/12.8 MB 3.1 MB/s eta 0:00:01\n",
      "   ---------------------------------------  12.8/12.8 MB 3.1 MB/s eta 0:00:01\n",
      "   ---------------------------------------  12.8/12.8 MB 3.1 MB/s eta 0:00:01\n",
      "   ---------------------------------------  12.8/12.8 MB 3.1 MB/s eta 0:00:01\n",
      "   ---------------------------------------  12.8/12.8 MB 3.1 MB/s eta 0:00:01\n",
      "   ---------------------------------------  12.8/12.8 MB 3.1 MB/s eta 0:00:01\n",
      "   ---------------------------------------  12.8/12.8 MB 3.1 MB/s eta 0:00:01\n",
      "   ---------------------------------------  12.8/12.8 MB 3.1 MB/s eta 0:00:01\n",
      "   ---------------------------------------  12.8/12.8 MB 3.1 MB/s eta 0:00:01\n",
      "   ---------------------------------------  12.8/12.8 MB 3.1 MB/s eta 0:00:01\n",
      "   ---------------------------------------  12.8/12.8 MB 3.1 MB/s eta 0:00:01\n",
      "   ---------------------------------------  12.8/12.8 MB 3.1 MB/s eta 0:00:01\n",
      "   ---------------------------------------  12.8/12.8 MB 3.1 MB/s eta 0:00:01\n",
      "   ---------------------------------------  12.8/12.8 MB 3.1 MB/s eta 0:00:01\n",
      "   ---------------------------------------  12.8/12.8 MB 3.1 MB/s eta 0:00:01\n",
      "   ---------------------------------------  12.8/12.8 MB 3.1 MB/s eta 0:00:01\n",
      "   ---------------------------------------  12.8/12.8 MB 3.1 MB/s eta 0:00:01\n",
      "   ---------------------------------------  12.8/12.8 MB 3.1 MB/s eta 0:00:01\n",
      "   ---------------------------------------  12.8/12.8 MB 3.1 MB/s eta 0:00:01\n",
      "   ---------------------------------------  12.8/12.8 MB 3.1 MB/s eta 0:00:01\n",
      "   ---------------------------------------  12.8/12.8 MB 3.1 MB/s eta 0:00:01\n",
      "   ---------------------------------------  12.8/12.8 MB 3.1 MB/s eta 0:00:01\n",
      "   ---------------------------------------  12.8/12.8 MB 3.1 MB/s eta 0:00:01\n",
      "   ---------------------------------------  12.8/12.8 MB 3.1 MB/s eta 0:00:01\n",
      "   ---------------------------------------  12.8/12.8 MB 3.1 MB/s eta 0:00:01\n",
      "   ---------------------------------------  12.8/12.8 MB 3.1 MB/s eta 0:00:01\n",
      "   ---------------------------------------  12.8/12.8 MB 3.1 MB/s eta 0:00:01\n",
      "   ---------------------------------------  12.8/12.8 MB 3.1 MB/s eta 0:00:01\n",
      "   ---------------------------------------  12.8/12.8 MB 3.1 MB/s eta 0:00:01\n",
      "   ---------------------------------------  12.8/12.8 MB 3.1 MB/s eta 0:00:01\n",
      "   ---------------------------------------  12.8/12.8 MB 3.1 MB/s eta 0:00:01\n",
      "   ---------------------------------------  12.8/12.8 MB 3.1 MB/s eta 0:00:01\n",
      "   ---------------------------------------  12.8/12.8 MB 3.1 MB/s eta 0:00:01\n",
      "   ---------------------------------------  12.8/12.8 MB 3.1 MB/s eta 0:00:01\n",
      "   ---------------------------------------  12.8/12.8 MB 3.1 MB/s eta 0:00:01\n",
      "   ---------------------------------------  12.8/12.8 MB 3.1 MB/s eta 0:00:01\n",
      "   ---------------------------------------  12.8/12.8 MB 3.1 MB/s eta 0:00:01\n",
      "   ---------------------------------------  12.8/12.8 MB 3.1 MB/s eta 0:00:01\n",
      "   ---------------------------------------  12.8/12.8 MB 3.1 MB/s eta 0:00:01\n",
      "   ---------------------------------------  12.8/12.8 MB 3.1 MB/s eta 0:00:01\n",
      "   ---------------------------------------  12.8/12.8 MB 3.1 MB/s eta 0:00:01\n",
      "   ---------------------------------------  12.8/12.8 MB 3.1 MB/s eta 0:00:01\n",
      "   ---------------------------------------  12.8/12.8 MB 3.1 MB/s eta 0:00:01\n",
      "   ---------------------------------------  12.8/12.8 MB 3.1 MB/s eta 0:00:01\n",
      "   ---------------------------------------  12.8/12.8 MB 3.1 MB/s eta 0:00:01\n",
      "   ---------------------------------------  12.8/12.8 MB 3.1 MB/s eta 0:00:01\n",
      "   ---------------------------------------  12.8/12.8 MB 3.1 MB/s eta 0:00:01\n",
      "   ---------------------------------------  12.8/12.8 MB 3.1 MB/s eta 0:00:01\n",
      "   ---------------------------------------  12.8/12.8 MB 3.1 MB/s eta 0:00:01\n",
      "   ---------------------------------------  12.8/12.8 MB 3.1 MB/s eta 0:00:01\n",
      "   ---------------------------------------  12.8/12.8 MB 3.1 MB/s eta 0:00:01\n",
      "   ---------------------------------------  12.8/12.8 MB 3.1 MB/s eta 0:00:01\n",
      "   ---------------------------------------  12.8/12.8 MB 3.1 MB/s eta 0:00:01\n",
      "   ---------------------------------------  12.8/12.8 MB 3.1 MB/s eta 0:00:01\n",
      "   ---------------------------------------  12.8/12.8 MB 3.1 MB/s eta 0:00:01\n",
      "   ---------------------------------------  12.8/12.8 MB 3.1 MB/s eta 0:00:01\n",
      "   ---------------------------------------  12.8/12.8 MB 3.1 MB/s eta 0:00:01\n",
      "   ---------------------------------------  12.8/12.8 MB 3.1 MB/s eta 0:00:01\n",
      "   ---------------------------------------- 12.8/12.8 MB 1.6 MB/s eta 0:00:00\n",
      "Downloading imageio-2.34.2-py3-none-any.whl (313 kB)\n",
      "   ---------------------------------------- 0.0/313.5 kB ? eta -:--:--\n",
      "   ---------------------------------------  307.2/313.5 kB ? eta -:--:--\n",
      "   ---------------------------------------  307.2/313.5 kB ? eta -:--:--\n",
      "   ---------------------------------------  307.2/313.5 kB ? eta -:--:--\n",
      "   ---------------------------------------  307.2/313.5 kB ? eta -:--:--\n",
      "   ---------------------------------------  307.2/313.5 kB ? eta -:--:--\n",
      "   ---------------------------------------  307.2/313.5 kB ? eta -:--:--\n",
      "   ---------------------------------------  307.2/313.5 kB ? eta -:--:--\n",
      "   ---------------------------------------  307.2/313.5 kB ? eta -:--:--\n",
      "   ---------------------------------------  307.2/313.5 kB ? eta -:--:--\n",
      "   -------------------------------------- 313.5/313.5 kB 746.8 kB/s eta 0:00:00\n",
      "Downloading lazy_loader-0.4-py3-none-any.whl (12 kB)\n",
      "Installing collected packages: lazy-loader, imageio, scikit-image\n",
      "  Attempting uninstall: lazy-loader\n",
      "    Found existing installation: lazy_loader 0.2\n",
      "    Uninstalling lazy_loader-0.2:\n",
      "      Successfully uninstalled lazy_loader-0.2\n",
      "  Attempting uninstall: imageio\n",
      "    Found existing installation: imageio 2.26.0\n",
      "    Uninstalling imageio-2.26.0:\n",
      "      Successfully uninstalled imageio-2.26.0\n",
      "  Attempting uninstall: scikit-image\n",
      "    Found existing installation: scikit-image 0.20.0\n",
      "    Uninstalling scikit-image-0.20.0:\n",
      "      Successfully uninstalled scikit-image-0.20.0\n",
      "Successfully installed imageio-2.34.2 lazy-loader-0.4 scikit-image-0.24.0\n",
      "Note: you may need to restart the kernel to use updated packages.\n"
     ]
    }
   ],
   "source": [
    "pip install -U scikit-image\n"
   ]
  },
  {
   "cell_type": "code",
   "execution_count": null,
   "id": "dd91fa4c",
   "metadata": {},
   "outputs": [],
   "source": [
    "\n"
   ]
  },
  {
   "cell_type": "code",
   "execution_count": null,
   "id": "d9e5fe48",
   "metadata": {},
   "outputs": [],
   "source": [
    "\n"
   ]
  },
  {
   "cell_type": "code",
   "execution_count": null,
   "id": "ed6fbb09",
   "metadata": {},
   "outputs": [],
   "source": []
  },
  {
   "cell_type": "code",
   "execution_count": null,
   "id": "c48c9f41",
   "metadata": {},
   "outputs": [],
   "source": []
  },
  {
   "cell_type": "code",
   "execution_count": null,
   "id": "b63afe20",
   "metadata": {},
   "outputs": [],
   "source": []
  },
  {
   "cell_type": "code",
   "execution_count": null,
   "id": "7a87ecd7",
   "metadata": {},
   "outputs": [],
   "source": []
  },
  {
   "cell_type": "code",
   "execution_count": null,
   "id": "d2558710",
   "metadata": {},
   "outputs": [],
   "source": []
  },
  {
   "cell_type": "code",
   "execution_count": null,
   "id": "abe30501",
   "metadata": {},
   "outputs": [],
   "source": []
  },
  {
   "cell_type": "code",
   "execution_count": 62,
   "id": "0b50adf8",
   "metadata": {},
   "outputs": [
    {
     "name": "stderr",
     "output_type": "stream",
     "text": [
      "UsageError: %%writefile is a cell magic, but the cell body is empty.\n"
     ]
    }
   ],
   "source": [
    "%%writefile app.py"
   ]
  },
  {
   "cell_type": "code",
   "execution_count": 69,
   "id": "ed2669df",
   "metadata": {},
   "outputs": [
    {
     "name": "stdout",
     "output_type": "stream",
     "text": [
      "Overwriting app.py\n"
     ]
    }
   ],
   "source": [
    "%%writefile app.py\n",
    "import streamlit as st\n",
    "import os\n",
    "import numpy as np\n",
    "from skimage.io import imread, imshow\n",
    "from skimage.color import rgb2gray\n",
    "from skimage.transform import resize\n",
    "from skimage.feature import hog\n",
    "from sklearn.linear_model import LogisticRegression\n",
    "from sklearn.svm import LinearSVC\n",
    "import pickle\n",
    "\n",
    "# Load the trained models (assuming you saved them as pickle files)\n",
    "with open('logistic_model_hog.pkl', 'rb') as f:\n",
    "    clf_lr_hog = pickle.load(f)\n",
    "\n",
    "with open('svc_model_hog.pkl', 'rb') as f:\n",
    "    clf_svc_hog = pickle.load(f)\n",
    "\n",
    "# Define the image dimensions and HOG parameters\n",
    "IMG_DIMS = (128, 64)\n",
    "HOG_ORIENTATIONS = 9\n",
    "HOG_PIXELS_PER_CELL = (8, 8)\n",
    "HOG_CELLS_PER_BLOCK = (2, 2)\n",
    "\n",
    "# Streamlit App\n",
    "st.title(\"Malaria Detection from Blood Smear Image\")\n",
    "st.write(\"Upload an image to predict whether it is parasitized or uninfected.\")\n",
    "\n",
    "uploaded_file = st.file_uploader(\"Choose an image...\", type=[\"jpg\", \"png\"])\n",
    "\n",
    "if uploaded_file is not None:\n",
    "    # Read the image\n",
    "    image = imread(uploaded_file)\n",
    "    st.image(image, caption='Uploaded Image.', use_column_width=True)\n",
    "    st.write(\"\")\n",
    "    st.write(\"Classifying...\")\n",
    "\n",
    "    # Convert the image to grayscale\n",
    "    if len(image.shape) == 3:\n",
    "        image = rgb2gray(image)\n",
    "    \n",
    "    # Resize the image\n",
    "    image_resized = resize(image, IMG_DIMS)\n",
    "\n",
    "    # Extract HOG features\n",
    "    features, hog_image = hog(image_resized, orientations=HOG_ORIENTATIONS, pixels_per_cell=HOG_PIXELS_PER_CELL,\n",
    "                              cells_per_block=HOG_CELLS_PER_BLOCK, visualize=True)\n",
    "\n",
    "    # Reshape the features\n",
    "    features = features.reshape(1, -1)\n",
    "\n",
    "    # Make predictions using both models\n",
    "    prediction_lr = clf_lr_hog.predict(features)\n",
    "    prediction_svc = clf_svc_hog.predict(features)\n",
    "\n",
    "    # Display the predictions\n",
    "    st.write(f\"Logistic Regression Model Prediction: {'Parasitized' if prediction_lr[0] == 1 else 'Uninfected'}\")\n",
    "    st.write(f\"SVM Model Prediction: {'Parasitized' if prediction_svc[0] == 1 else 'Uninfected'}\")\n",
    "\n",
    "\n",
    "\n"
   ]
  },
  {
   "cell_type": "code",
   "execution_count": null,
   "id": "f9dc66ee",
   "metadata": {},
   "outputs": [],
   "source": [
    "#C100P61ThinF_IMG_20150918_144104_cell_163.png"
   ]
  },
  {
   "cell_type": "code",
   "execution_count": 65,
   "id": "7454b1ea",
   "metadata": {},
   "outputs": [],
   "source": [
    "!pip install -q pyngrok"
   ]
  },
  {
   "cell_type": "code",
   "execution_count": null,
   "id": "b6b6cee7",
   "metadata": {},
   "outputs": [],
   "source": []
  },
  {
   "cell_type": "code",
   "execution_count": null,
   "id": "b11d091f",
   "metadata": {},
   "outputs": [],
   "source": [
    "\n"
   ]
  }
 ],
 "metadata": {
  "kernelspec": {
   "display_name": "Python 3 (ipykernel)",
   "language": "python",
   "name": "python3"
  },
  "language_info": {
   "codemirror_mode": {
    "name": "ipython",
    "version": 3
   },
   "file_extension": ".py",
   "mimetype": "text/x-python",
   "name": "python",
   "nbconvert_exporter": "python",
   "pygments_lexer": "ipython3",
   "version": "3.11.5"
  }
 },
 "nbformat": 4,
 "nbformat_minor": 5
}
